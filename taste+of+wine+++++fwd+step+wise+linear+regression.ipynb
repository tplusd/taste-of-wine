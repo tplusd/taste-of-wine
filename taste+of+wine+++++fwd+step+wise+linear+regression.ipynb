{
 "cells": [
  {
   "cell_type": "code",
   "execution_count": 31,
   "metadata": {},
   "outputs": [
    {
     "name": "stdout",
     "output_type": "stream",
     "text": [
      "[0, 1, 2, 3, 4, 5, 6, 7, 8, 9, 10]\n",
      "[0, 1, 2, 3, 4, 5, 6, 7, 8, 9]\n",
      "[0, 2, 3, 4, 5, 6, 7, 8, 9]\n",
      "[0, 2, 3, 4, 5, 6, 7, 8]\n",
      "[0, 2, 3, 5, 6, 7, 8]\n",
      "[0, 2, 3, 5, 7, 8]\n",
      "[0, 2, 3, 5, 7]\n",
      "[0, 2, 3, 7]\n",
      "[0, 2, 7]\n",
      "[0, 7]\n",
      "[0]\n",
      "Out of sample error versus attribute set size\n",
      "[0.72342592551162754, 0.68609931528371959, 0.67343650334202776, 0.66770332138977961, 0.66225585685222721, 0.65900047541546258, 0.65727172061430783, 0.65709058062076975, 0.65699930964461373, 0.65758189400434697, 0.65739098690113396]\n",
      "\n",
      "Best attribute indices\n",
      "[10, 1, 9, 4, 6, 8, 5, 3, 2, 7, 0]\n",
      "\n",
      "Best attribute names\n",
      "['\"alcohol\"', '\"volatile acidity\"', '\"sulphates\"', '\"chlorides\"', '\"total sulfur dioxide\"', '\"pH\"', '\"free sulfur dioxide\"', '\"residual sugar\"', '\"citric acid\"', '\"density\"', '\"fixed acidity\"']\n"
     ]
    },
    {
     "data": {
      "image/png": "[encoded data removed]",
      "text/plain": [
       "<matplotlib.figure.Figure at 0x1726e0c3908>"
      ]
     },
     "metadata": {},
     "output_type": "display_data"
    }
   ],
   "source": [
    "from urllib.request import urlopen\n",
    "import numpy as np\n",
    "from sklearn.linear_model import LinearRegression\n",
    "from math import sqrt\n",
    "import matplotlib.pyplot as plt\n",
    "\n",
    "def xatterSelect(x,idxSet):\n",
    "    xOut = []\n",
    "    for row in x:\n",
    "        xOut.append([row[i] for i in idxSet])\n",
    "    return(xOut)\n",
    "\n",
    "target_url = (\"http://archive.ics.uci.edu/ml/machine-learning-databases/wine-quality/winequality-red.csv\")\n",
    "\n",
    "data = urlopen(target_url)\n",
    "xList = []\n",
    "labels = []\n",
    "names = []\n",
    "firstLine = True\n",
    "for line in data:\n",
    "    if firstLine:\n",
    "        line = line.decode('utf-8')\n",
    "        names = line.strip().split(\";\")\n",
    "        firstLine = False\n",
    "    else:\n",
    "        \n",
    "        line = line.decode('utf-8')\n",
    "        row = line.strip().split(\";\")\n",
    "        labels.append(float(row[-1]))\n",
    "        row.pop()\n",
    "        floatrow = [float(num) for num in row]\n",
    "        xList.append(floatrow)\n",
    "        \n",
    "#print(xList)\n",
    "#print(labels)\n",
    "#print(names)\n",
    "\n",
    "indices = range(len(xList))\n",
    "xListTest = [xList[i] for i in indices if i%3 == 0]\n",
    "xListTrain = [xList[i] for i in indices if i%3 != 0]\n",
    "yListTest = [labels[i] for i in indices if i%3 == 0]\n",
    "yListTrain = [labels[i] for i in indices if i%3 != 0]\n",
    "\n",
    "# build list of attributes one-at-a-time starting with empty\n",
    "attributeList = []\n",
    "index = range(len(xList[1]))\n",
    "indexset = set(index)\n",
    "#print(indexset)\n",
    "indexSeq = []\n",
    "oosError = []\n",
    "\n",
    "for i in index:\n",
    "    attset = set(attributeList)\n",
    "    attTrySet = indexset - attset\n",
    "    attTry = [ii for ii in attTrySet]\n",
    "    print(attTry)\n",
    "    errorList = []\n",
    "    attTemp = []\n",
    "    \n",
    "    for iTry in attTry:\n",
    "        attTemp = [] + attributeList\n",
    "        attTemp.append(iTry)\n",
    "        xTrainTemp = xatterSelect(xListTrain,attTemp)\n",
    "        xTestTemp = xatterSelect(xListTest,attTemp)\n",
    "        #print(xTestTemp)\n",
    "        xTrain = np.array(xTrainTemp)\n",
    "        xTest = np.array(xTestTemp)\n",
    "        yTrain = np.array(yListTrain)\n",
    "        yTest = np.array(yListTest)\n",
    "        \n",
    "        wineQModel = LinearRegression()\n",
    "        wineQModel.fit(xTrain,yTrain)\n",
    "        rmsError = np.linalg.norm((yTest-wineQModel.predict(xTest)),2)/sqrt(len(yTest))\n",
    "        errorList.append(rmsError)\n",
    "        attTemp = []\n",
    "    iBest = np.argmin(errorList)\n",
    "    attributeList.append(attTry[iBest])\n",
    "    oosError.append(errorList[iBest])\n",
    "\n",
    "print(\"Out of sample error versus attribute set size\")\n",
    "print(oosError)\n",
    "print(\"\\n\" + \"Best attribute indices\")\n",
    "print(attributeList)\n",
    "namesList = [names[i] for i in attributeList]\n",
    "print(\"\\n\" + \"Best attribute names\")\n",
    "print(namesList)\n",
    "\n",
    "# plot error versus number of attributes\n",
    "x = range(len(oosError))\n",
    "plt.plot(x,oosError,'k')\n",
    "plt.xlabel('Number of Attributes')\n",
    "plt.ylabel('Error (RMS)')\n",
    "plt.show()"
   ]
  },
  {
   "cell_type": "code",
   "execution_count": 36,
   "metadata": {},
   "outputs": [
    {
     "name": "stdout",
     "output_type": "stream",
     "text": [
      "8\n"
     ]
    },
    {
     "data": {
      "image/png": "[encoded data removed]",
      "text/plain": [
       "<matplotlib.figure.Figure at 0x1726af34208>"
      ]
     },
     "metadata": {},
     "output_type": "display_data"
    }
   ],
   "source": [
    "# plot histogram of out of sample errors for best number of attributes\n",
    "indexBest = oosError.index(min(oosError))\n",
    "print(indexBest)\n",
    "\n",
    "attributesBest = attributeList[1:(indexBest+1)]\n",
    "xTrainTemp = xatterSelect(xListTrain,attributesBest)\n",
    "xTestTemp = xatterSelect(xListTest,attributesBest)\n",
    "xTrain = np.array(xTrainTemp)\n",
    "xTest = np.array(xTestTemp)\n",
    "\n",
    "wineQModel = LinearRegression()\n",
    "wineQModel.fit(xTrain,yTrain)\n",
    "errorvector = yTest - wineQModel.predict(xTest)\n",
    "plt.hist(errorvector)\n",
    "plt.xlabel(\"Bin Boundaries\")\n",
    "plt.ylabel(\"Counts\")\n",
    "plt.show()"
   ]
  },
  {
   "cell_type": "code",
   "execution_count": 37,
   "metadata": {},
   "outputs": [
    {
     "data": {
      "image/png": "[encoded data removed]",
      "text/plain": [
       "<matplotlib.figure.Figure at 0x1726dedb400>"
      ]
     },
     "metadata": {},
     "output_type": "display_data"
    }
   ],
   "source": [
    "# scatter plot of actual versus predicted\n",
    "plt.scatter(wineQModel.predict(xTest),yTest,s=100,alpha=1.0)\n",
    "plt.xlabel('predicted score')\n",
    "plt.ylabel('actual score')\n",
    "plt.show()"
   ]
  },
  {
   "cell_type": "code",
   "execution_count": null,
   "metadata": {
    "collapsed": true
   },
   "outputs": [],
   "source": []
  }
 ],
 "metadata": {
  "kernelspec": {
   "display_name": "Python 3",
   "language": "python",
   "name": "python3"
  },
  "language_info": {
   "codemirror_mode": {
    "name": "ipython",
    "version": 3
   },
   "file_extension": ".py",
   "mimetype": "text/x-python",
   "name": "python",
   "nbconvert_exporter": "python",
   "pygments_lexer": "ipython3",
   "version": "3.6.1"
  }
 },
 "nbformat": 4,
 "nbformat_minor": 2
}
